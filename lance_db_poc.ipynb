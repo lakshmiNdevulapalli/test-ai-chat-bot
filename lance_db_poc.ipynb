{
 "cells": [
  {
   "cell_type": "code",
   "execution_count": 1,
   "id": "a0d711b6-bbf8-4f20-989d-2539b901c2ed",
   "metadata": {},
   "outputs": [],
   "source": [
    "from datasets import load_dataset\n",
    "data = load_dataset('jamescalam/youtube-transcriptions', split='train')"
   ]
  },
  {
   "cell_type": "code",
   "execution_count": 2,
   "id": "bc9212f4-4e00-4e50-a812-46ca97a11027",
   "metadata": {},
   "outputs": [
    {
     "data": {
      "text/plain": [
       "Dataset({\n",
       "    features: ['title', 'published', 'url', 'video_id', 'channel_id', 'id', 'text', 'start', 'end'],\n",
       "    num_rows: 208619\n",
       "})"
      ]
     },
     "execution_count": 2,
     "metadata": {},
     "output_type": "execute_result"
    }
   ],
   "source": [
    "data"
   ]
  },
  {
   "cell_type": "code",
   "execution_count": 3,
   "id": "61e51a77-5086-4283-9dc6-29294e1d9a24",
   "metadata": {},
   "outputs": [
    {
     "data": {
      "text/plain": [
       "700"
      ]
     },
     "execution_count": 3,
     "metadata": {},
     "output_type": "execute_result"
    }
   ],
   "source": [
    "data.to_pandas().title.nunique()"
   ]
  },
  {
   "cell_type": "code",
   "execution_count": 4,
   "id": "8b3b4c30-6886-4621-9830-1c3210593244",
   "metadata": {},
   "outputs": [],
   "source": [
    "## Prepare Context\n",
    "# Pandas are used to create the context windows of size 20 with stire 4\n",
    "# For every 4 sentences, it creates a context by concatenating the next 20 sentences\n",
    "# Eventually the answers will come from finding to right context and summarizing it."
   ]
  },
  {
   "cell_type": "code",
   "execution_count": 5,
   "id": "c32767bb-b5fd-4ebc-b373-0573b7bf95be",
   "metadata": {},
   "outputs": [],
   "source": [
    "import numpy as np \n",
    "import pandas as pd\n",
    "\n",
    "window = 20\n",
    "stride = 4 "
   ]
  },
  {
   "cell_type": "code",
   "execution_count": 6,
   "id": "1d6a00b5-e979-46d7-b670-16300251e4fd",
   "metadata": {},
   "outputs": [],
   "source": [
    "def contextualize(raw_df, window, stride):\n",
    "    def process_video(vid):\n",
    "        # for each video, create the rolling window\n",
    "        text = vid.text.values\n",
    "        time_end = vid['end'].values\n",
    "        contexts = vid.iloc[:-window:stride, :].copy()\n",
    "        contexts['text'] = [' '.join(text[start_i:start_i+window])\n",
    "                            for start_i in range(0, len(vid)-window, stride)]\n",
    "        contexts['end'] = [time_end[start_i+window-1]\n",
    "                           for start_i in range(0, len(vid)-window, stride)]\n",
    "        return contexts\n",
    "    # concat results from all videos\n",
    "    return pd.concat([process_video(vid) for _, vid in raw_df.groupby('title')])\n",
    "\n",
    "df = contextualize(data.to_pandas(), 20, 4)"
   ]
  },
  {
   "cell_type": "code",
   "execution_count": 7,
   "id": "f9e15923-a2ad-47b0-b6b3-944505f39acc",
   "metadata": {},
   "outputs": [
    {
     "data": {
      "text/plain": [
       "48935"
      ]
     },
     "execution_count": 7,
     "metadata": {},
     "output_type": "execute_result"
    }
   ],
   "source": [
    "len(df)"
   ]
  },
  {
   "cell_type": "code",
   "execution_count": 8,
   "id": "479aeb19-d65c-4481-8f69-9dcbd6e8b1a6",
   "metadata": {},
   "outputs": [],
   "source": [
    "## Create Embedding function \n",
    "# Call the OpenAI embedding API to get embeddings"
   ]
  },
  {
   "cell_type": "code",
   "execution_count": 9,
   "id": "2d4b1dd5-3758-430d-a759-b652c64d5a83",
   "metadata": {},
   "outputs": [
    {
     "data": {
      "application/vnd.jupyter.widget-view+json": {
       "model_id": "ab43ece74b254518993e39e4e68b487e",
       "version_major": 2,
       "version_minor": 0
      },
      "text/plain": [
       "  0%|          | 0/49 [00:00<?, ?it/s]"
      ]
     },
     "metadata": {},
     "output_type": "display_data"
    }
   ],
   "source": [
    "from tqdm.auto import tqdm\n",
    "import functools\n",
    "import openai\n",
    "from retry import retry\n",
    "import time\n",
    "import math\n",
    "import pandas as pd  # assuming you are using pandas for the DataFrame\n",
    "\n",
    "# Initialize OpenAI API key\n",
    "openai.api_key = 'sk-***'\n",
    "\n",
    "# Initialize variables for custom rate limiting\n",
    "last_called = [0.0]\n",
    "max_calls = 0.9  # per second\n",
    "period = 1.0\n",
    "\n",
    "# Custom rate limiter function\n",
    "def rate_limiter(func):\n",
    "    @functools.wraps(func)\n",
    "    def wrapper(*args, **kwargs):\n",
    "        elapsed = time.time() - last_called[0]\n",
    "        to_wait = period - elapsed\n",
    "        if to_wait > 0:\n",
    "            time.sleep(to_wait)\n",
    "        last_called[0] = time.time()\n",
    "        return func(*args, **kwargs)\n",
    "    return wrapper\n",
    "\n",
    "# Get the embedding and retry\n",
    "@retry(tries=10, delay=1, max_delay=30, backoff=3, jitter=1)\n",
    "@rate_limiter\n",
    "def embed_func(c):\n",
    "    rs = openai.Embedding.create(input=c, engine='text-embedding-ada-002')\n",
    "    return [record['embedding'] for record in rs['data']]\n",
    "\n",
    "# Function to chunk an array into batches\n",
    "def to_batches(arr, batch_size):\n",
    "    length = len(arr)\n",
    "    def _chunker(arr):\n",
    "        for start_i in range(0, len(arr), batch_size):\n",
    "            yield arr[start_i:start_i+batch_size]\n",
    "    yield from tqdm(_chunker(arr), total=math.ceil(length / batch_size))\n",
    "\n",
    "# Assuming df is your DataFrame and it has a column named 'text'\n",
    "batch_size = 1000\n",
    "batches = to_batches(df.text.values.tolist(), batch_size)\n",
    "\n",
    "# Perform the rate-limited API calls for each batch\n",
    "embeds = [emb for batch in batches for emb in embed_func(batch)]\n",
    "\n"
   ]
  },
  {
   "cell_type": "code",
   "execution_count": 14,
   "id": "21f1f0fe-3f77-4915-b740-56e75d68ec90",
   "metadata": {},
   "outputs": [],
   "source": [
    "import lance\n",
    "import pyarrow as pa \n",
    "from lance.vector import vec_to_table \n",
    "\n",
    "table = vec_to_table(np.array(embeds))\n",
    "combined = pa.Table.from_pandas(df).append_column('vector', table['vector'])\n",
    "dst = lance.write_dataset(combined, \"AIchatbot.lance\")"
   ]
  },
  {
   "cell_type": "code",
   "execution_count": 15,
   "id": "10b24e99-18c2-42b0-b3ef-a068be2f2689",
   "metadata": {},
   "outputs": [
    {
     "name": "stdout",
     "output_type": "stream",
     "text": [
      "Sample 16384 out of 48935 to train kmeans of 1536 dim, 64 clusters\n"
     ]
    }
   ],
   "source": [
    "ds = dst.create_index('vector',\n",
    "                     index_type='IVF_PQ',\n",
    "                     num_partitions=64, # IVF\n",
    "                     num_sub_vectors=96) # PQ"
   ]
  },
  {
   "cell_type": "code",
   "execution_count": 16,
   "id": "ecf98b63-4315-4a30-8a13-4a4fb6946d4c",
   "metadata": {},
   "outputs": [],
   "source": [
    "def create_prompt(query, context):\n",
    "    limit = 3750\n",
    "\n",
    "    prompt_start = (\n",
    "        \"Anwer the question based on the context below. \\n \\n\" + \n",
    "        \"Context:\\n\"\n",
    "    )\n",
    "    prompt_end = (\n",
    "        f\"\\n\\nQuestion: {query}\\nAnswer:\"\n",
    "    )\n",
    "    # append contexts until hitting limit \n",
    "    for i in range(1, len(context)):\n",
    "        if len('\\n\\n---\\n\\n'.join(context.text[:i])) >= limit:\n",
    "            prompt = (\n",
    "                prompt_start + \n",
    "                '\\n\\n---\\n\\n'.join(context.text[:i-1]) +\n",
    "                prompt_end\n",
    "            )\n",
    "            break\n",
    "        elif i == len(context)-1:\n",
    "            prompt = (\n",
    "                prompt_start +\n",
    "                '\\n\\n---\\n\\n'.join(context.text) +\n",
    "                prompt_end\n",
    "            )\n",
    "    return prompt"
   ]
  },
  {
   "cell_type": "code",
   "execution_count": 17,
   "id": "543c9478-90a9-4219-a352-0823cb3a17e2",
   "metadata": {},
   "outputs": [
    {
     "data": {
      "text/plain": [
       "\"Mission Chandrayaan-3 is an Indian lunar exploration mission that is planned to be launched in 2021. The mission is a follow-up to the Chandrayaan-2 mission, which was launched in 2019 but failed to land on the moon. The mission will involve the launch of an orbiter and a lander, both of which will be sent to the moon. The orbiter will be used to map the lunar surface and study its composition, while the lander will be used to deploy a rover to the moon's surface.\\n\\nThe mission is significant because it will be the first Indian mission to land on the moon. It will also be the first mission to use an Indian-made lander and rover. The mission will provide valuable data about the moon's surface and composition, which will help scientists better understand the moon's history and evolution. Additionally, the mission will help India become a major player in the space exploration industry.\""
      ]
     },
     "execution_count": 17,
     "metadata": {},
     "output_type": "execute_result"
    }
   ],
   "source": [
    "def complete(prompt):\n",
    "    #query text-davinci-003\n",
    "    res = openai.Completion.create(\n",
    "        engine='text-davinci-003',\n",
    "        prompt=prompt,\n",
    "        temperature=0,\n",
    "        max_tokens=400,\n",
    "        top_p=1,\n",
    "        frequency_penalty=0,\n",
    "        presence_penalty=0,\n",
    "        stop=None\n",
    "    )\n",
    "    return res['choices'][0]['text'].strip()\n",
    "\n",
    "# Check if the bot works \n",
    "query = \"What is mission Chandrayaan-3 and explain its significance?\"\n",
    "complete(query)"
   ]
  },
  {
   "cell_type": "code",
   "execution_count": 18,
   "id": "679712d9-dd57-4132-8c28-c86e9a5a3d79",
   "metadata": {},
   "outputs": [],
   "source": [
    "def answer(question):\n",
    "    emb = embed_func(question)[0]  # Changed query to question\n",
    "    context = ds.to_table(\n",
    "        nearest={\n",
    "            \"column\": \"vector\",\n",
    "            \"k\": 3,\n",
    "            \"q\": emb,\n",
    "            \"nprobes\": 20,\n",
    "            \"refine_factor\": 100\n",
    "        }).to_pandas()\n",
    "    prompt = create_prompt(question, context)\n",
    "    return complete(prompt), context.reset_index()"
   ]
  },
  {
   "cell_type": "code",
   "execution_count": 19,
   "id": "5eb40e04-ed5d-40d7-9450-b48d1870c5d7",
   "metadata": {},
   "outputs": [],
   "source": [
    "from IPython.display import YouTubeVideo"
   ]
  },
  {
   "cell_type": "code",
   "execution_count": 20,
   "id": "2afa0228-2429-4ad3-a7ad-b9e87cad473a",
   "metadata": {},
   "outputs": [],
   "source": [
    "# Show the answer and show the video at the right place "
   ]
  },
  {
   "cell_type": "code",
   "execution_count": 21,
   "id": "baba9167-d0d2-4df1-90b0-d7ddb6adbf93",
   "metadata": {},
   "outputs": [
    {
     "name": "stdout",
     "output_type": "stream",
     "text": [
      "In this video, we will build an input pipeline and train a model using a mass language modeling script to mask around 15% of the tokens within the tensor. We will then test the model by replacing one of the words in a sentence with a text and seeing if the model can predict what is there.\n"
     ]
    },
    {
     "data": {
      "image/jpeg": "[encoded data removed]",
      "text/html": [
       "\n",
       "        <iframe\n",
       "            width=\"400\"\n",
       "            height=\"300\"\n",
       "            src=\"https://www.youtube.com/embed/heTYbpr9mD8?start=0\"\n",
       "            frameborder=\"0\"\n",
       "            allowfullscreen\n",
       "            \n",
       "        ></iframe>\n",
       "        "
      ],
      "text/plain": [
       "<IPython.lib.display.YouTubeVideo at 0x1054ec7d0>"
      ]
     },
     "execution_count": 21,
     "metadata": {},
     "output_type": "execute_result"
    }
   ],
   "source": [
    "query = (\"Training and Testing an Italian BERT - Transformers From Scratch #4\")\n",
    "completion, context = answer(query)\n",
    "\n",
    "print(completion)\n",
    "top_match = context.iloc[0]\n",
    "YouTubeVideo(top_match[\"url\"].split(\"/\")[-1], start=int(top_match[\"start\"]))"
   ]
  },
  {
   "cell_type": "code",
   "execution_count": 26,
   "id": "2b88c55e-882b-4f0a-b676-7eaadb60af70",
   "metadata": {},
   "outputs": [
    {
     "name": "stdout",
     "output_type": "stream",
     "text": [
      "Writing tuesdai.py\n"
     ]
    }
   ],
   "source": [
    "%%writefile tuesdai.py\n",
    "\n",
    "from langchain.chat_models import ChatOpenAI\n",
    "from langchain.schema import (\n",
    "    SystemMessage,\n",
    "    HumanMessage,\n",
    "    AIMessage\n",
    ")\n",
    "import streamlit as st\n",
    "from streamlit_chat import message\n",
    "from dotenv import load_dotenv, find_dotenv\n",
    "load_dotenv(find_dotenv(), override=True)\n",
    "\n",
    "st.set_page_config(\n",
    "    page_title='T.U.E.S.D.A.I Virtual Assistant',\n",
    "    page_icon='🤖==>🌮'\n",
    ")\n",
    "st.subheader('Taco Bell SD Custom Chatbot 💡')\n",
    "chat = ChatOpenAI(model_name='gpt-3.5-turbo', temperature=0.5)\n",
    "if 'messages' not in st.session_state:\n",
    "    st.session_state.messages = []\n",
    "\n",
    "with st.sidebar:\n",
    "    system_message = st.text_input(label='System role')\n",
    "    user_prompt = st.text_input(label='Send a message')\n",
    "    if system_message:\n",
    "        if not any(isinstance(x, SystemMessage) for x in st.session_state.messages):\n",
    "            st.session_state.messages.append(\n",
    "                SystemMessage(content=system_message)\n",
    "            )\n",
    "    st.write(st.session_state.messages)\n",
    "    \n",
    "    if user_prompt:\n",
    "        st.session_state.messages.append(\n",
    "            HumanMessage(content=user_prompt)\n",
    "        )\n",
    "    \n",
    "    with st.spinner('🌮 is working on your request...'):\n",
    "        response = chat(st.session_state.messages)\n",
    "    st.session_state.messages.append(AIMessage(content=response.content))\n",
    "\n",
    "st.session_state.messages"
   ]
  },
  {
   "cell_type": "code",
   "execution_count": null,
   "id": "b8cd7cff-9f85-4013-b6d1-cbd606f7adda",
   "metadata": {},
   "outputs": [],
   "source": []
  }
 ],
 "metadata": {
  "kernelspec": {
   "display_name": "Python 3 (ipykernel)",
   "language": "python",
   "name": "python3"
  },
  "language_info": {
   "codemirror_mode": {
    "name": "ipython",
    "version": 3
   },
   "file_extension": ".py",
   "mimetype": "text/x-python",
   "name": "python",
   "nbconvert_exporter": "python",
   "pygments_lexer": "ipython3",
   "version": "3.11.5"
  }
 },
 "nbformat": 4,
 "nbformat_minor": 5
}
